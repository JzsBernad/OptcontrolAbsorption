{
 "cells": [
  {
   "cell_type": "code",
   "execution_count": null,
   "metadata": {},
   "outputs": [],
   "source": [
    "using SymPy\n",
    "# Solve integral int_0^T dt cos(pi*j*t/T) * exp(-i * Delta *(T-t))\n",
    "# j is integer and Delta is real\n",
    "j = symbols(\"j\", integer=true)\n",
    "Delta = symbols(\"Delta\", real=true)\n",
    "kappa = symbols(\"kappa\", real=true, positive=true)\n",
    "T = symbols(\"T\", real=true, positive=true)\n",
    "tau = symbols(\"tau\", real=true, positive=true)\n",
    "t = symbols(\"t\", real=true, positive=true)\n",
    "print(\"Done Loading Packages and defining symbols\")"
   ]
  },
  {
   "cell_type": "code",
   "execution_count": null,
   "metadata": {},
   "outputs": [],
   "source": [
    "# integrate cos(pi*j*t'/T) * exp(-kappa/2 *(tau-t')) from t'=0 to t'=tau\n",
    "integrandcos = cos(pi*j*t/T) * exp(-kappa/2 *(tau-t))\n",
    "integrandcos_integrated = simplify(integrate(integrandcos, (t, 0, tau)))\n",
    "println(integrandcos_integrated)"
   ]
  },
  {
   "cell_type": "code",
   "execution_count": null,
   "metadata": {},
   "outputs": [],
   "source": [
    "# integrate sin(pi*j*t'/T) * exp(-kappa/2 *(tau-t')) from t'=0 to t'=tau\n",
    "integrandsin = sin(pi*j*t/T) * exp(-kappa/2 *(tau-t))\n",
    "integrandsin_integrated = simplify(integrate(integrandsin, (t, 0, tau)))\n",
    "println(integrandsin_integrated)"
   ]
  },
  {
   "cell_type": "code",
   "execution_count": null,
   "metadata": {},
   "outputs": [],
   "source": []
  },
  {
   "cell_type": "code",
   "execution_count": null,
   "metadata": {},
   "outputs": [],
   "source": [
    "# integrate the integrand (cos)\n",
    "integrand = cos(pi*j*t/T) * exp(- im * kappa/2 *(T-t))\n",
    "# Compute the integral\n",
    "integrand_integrated = simplify(integrate(integrand, (t, 0, T)))"
   ]
  },
  {
   "cell_type": "code",
   "execution_count": null,
   "metadata": {},
   "outputs": [],
   "source": [
    "# integrate the integrand (constant)\n",
    "integrand = exp(- im * Delta *(T-t))\n",
    "simplify(integrate(integrand, (t, 0, T)))"
   ]
  },
  {
   "cell_type": "code",
   "execution_count": null,
   "metadata": {},
   "outputs": [],
   "source": [
    "# integrate the integrand (sin)\n",
    "integrand = sin(pi*j*t/T) * exp(- im * Delta *(T-t))\n",
    "# Compute the integral\n",
    "integrand_integrated = simplify(integrate(integrand, (t, 0, T)))"
   ]
  },
  {
   "cell_type": "code",
   "execution_count": null,
   "metadata": {},
   "outputs": [],
   "source": []
  },
  {
   "cell_type": "code",
   "execution_count": null,
   "metadata": {},
   "outputs": [],
   "source": []
  },
  {
   "cell_type": "code",
   "execution_count": null,
   "metadata": {},
   "outputs": [],
   "source": []
  },
  {
   "cell_type": "code",
   "execution_count": null,
   "metadata": {},
   "outputs": [],
   "source": [
    "#### Normalization Integrals\n",
    "using SymPy\n",
    "i, j = symbols(\"j k\", integer=true)\n",
    "T = symbols(\"T\", real=true, positive=true)\n",
    "t = symbols(\"t\", real=true, positive=true)\n",
    "# Define the integrand\n",
    "fun_s = sin(pi*i*t/T) \n",
    "fun_c = cos(pi*i*t/T) \n",
    "fun_ss = sin(pi*i*t/T) * sin(pi*j*t/T)\n",
    "fun_sc = sin(pi*i*t/T) * cos(pi*j*t/T)\n",
    "fun_cc = cos(pi*i*t/T) * cos(pi*j*t/T)\n",
    "# Compute the integral from 0 to T\n",
    "integrand_s = simplify(integrate(fun_s, (t, 0, T)))\n",
    "integrand_c = simplify(integrate(fun_c, (t, 0, T)))\n",
    "integrand_ss = simplify(integrate(fun_ss, (t, 0, T)))\n",
    "integrand_sc = simplify(integrate(fun_sc, (t, 0, T)))\n",
    "integrand_cc = simplify(integrate(fun_cc, (t, 0, T)))\n",
    "println(\"Finished computing the integrals\")"
   ]
  },
  {
   "cell_type": "code",
   "execution_count": null,
   "metadata": {},
   "outputs": [],
   "source": [
    "display(integrand_s)"
   ]
  },
  {
   "cell_type": "code",
   "execution_count": null,
   "metadata": {},
   "outputs": [],
   "source": [
    "display(integrand_c)"
   ]
  },
  {
   "cell_type": "code",
   "execution_count": null,
   "metadata": {},
   "outputs": [],
   "source": [
    "display(integrand_sc)"
   ]
  },
  {
   "cell_type": "code",
   "execution_count": null,
   "metadata": {},
   "outputs": [],
   "source": [
    "display(integrand_cc)"
   ]
  },
  {
   "cell_type": "code",
   "execution_count": null,
   "metadata": {},
   "outputs": [],
   "source": [
    "display(integrand_ss)"
   ]
  },
  {
   "cell_type": "code",
   "execution_count": null,
   "metadata": {},
   "outputs": [],
   "source": []
  },
  {
   "cell_type": "code",
   "execution_count": null,
   "metadata": {},
   "outputs": [],
   "source": [
    "using SymPy\n",
    "j = symbols(\"j\", integer=true)\n",
    "T = symbols(\"T\", real=true, positive=true)\n",
    "t = symbols(\"t\", real=true, positive=true)\n",
    "t0 = T / 2\n",
    "kappa, kappa_g = symbols(\"kappa kappa_g\", real=true, positive=true)\n",
    "zsolt_fun = exp(-kappa_g^2 * (t - t0)^2 / 2) # sqrt(kappa * kappa_g) / pi^(1 / 4) \n",
    "# Compute the integral from 0 to T\n",
    "integrand = zsolt_fun * cos(pi*j*t/T)\n",
    "integrand_integrated = simplify(integrate(integrand, (t, 0, T)))\n",
    "display(integrand_integrated)"
   ]
  },
  {
   "cell_type": "code",
   "execution_count": null,
   "metadata": {},
   "outputs": [],
   "source": [
    "display(simplify(integrand_integrated/T))"
   ]
  },
  {
   "cell_type": "code",
   "execution_count": null,
   "metadata": {},
   "outputs": [],
   "source": [
    "integrand = zsolt_fun * cos(pi*j*t/T)\n",
    "integrand_integrated = simplify(integrate(integrand, (t, 0, T)))"
   ]
  }
 ],
 "metadata": {
  "kernelspec": {
   "display_name": "Julia 1.9.3",
   "language": "julia",
   "name": "julia-1.9"
  },
  "language_info": {
   "file_extension": ".jl",
   "mimetype": "application/julia",
   "name": "julia",
   "version": "1.9.3"
  }
 },
 "nbformat": 4,
 "nbformat_minor": 2
}
