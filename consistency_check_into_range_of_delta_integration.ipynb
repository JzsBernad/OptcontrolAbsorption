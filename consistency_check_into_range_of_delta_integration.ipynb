{
 "cells": [
  {
   "cell_type": "code",
   "execution_count": null,
   "metadata": {},
   "outputs": [],
   "source": [
    "using QuadGK\n",
    "using Plots"
   ]
  },
  {
   "cell_type": "code",
   "execution_count": null,
   "metadata": {},
   "outputs": [],
   "source": [
    "# integrate 1/(x^4)\n",
    "how_many = 20\n",
    "as::Vector{Float64} = range(1.0, stop=100.0, length=how_many)\n",
    "target_T::Vector{Float64} = zeros(how_many)\n",
    "for i in 1:how_many\n",
    "    Int_fun = y -> quadgk(x -> 1/(x^4+as[i]), -y, y)[1]\n",
    "    Int_max = Int_fun(Inf)\n",
    "    ys::Vector{Float64} = range(0.1, stop=100.0, length=1000)\n",
    "    vals = [Int_fun(y) for y in ys]\n",
    "    # find point at which 10^-5 is reached\n",
    "    idx = findfirst(x -> x < 10^-5, Int_max .- vals)\n",
    "    target_T[i] = ys[idx]\n",
    "end\n",
    "plot(as, target_T)"
   ]
  },
  {
   "cell_type": "code",
   "execution_count": null,
   "metadata": {},
   "outputs": [],
   "source": []
  },
  {
   "cell_type": "code",
   "execution_count": null,
   "metadata": {},
   "outputs": [],
   "source": [
    "function integrals(omega, kappa, g)\n",
    "    omega = omega*2*pi\n",
    "    kappa = kappa*2*pi\n",
    "    g = g*2*pi\n",
    "    omega_dash = sqrt(ComplexF64(-16*g^2 + (kappa-omega)^2))\n",
    "    A = delta -> -(4*delta+2im*omega)/((2*delta+im*omega)*(2*delta+im*kappa)-4*g^2)\n",
    "    B = delta -> 1/omega_dash*((-4*delta-2im*omega)*(omega-kappa)+16im*g^2)/((2*delta+im*omega)*(2*delta+im*kappa)-4*g^2)\n",
    "    p = delta -> omega/(2*pi)*1/(delta^2+omega^2/4)\n",
    "    # compare integration of delta from -infty to infty\n",
    "    Int_A = (max_delta) -> quadgk(A, -max_delta, max_delta)[1]\n",
    "    Int_B = (max_delta) -> quadgk(B, -max_delta, max_delta)[1]\n",
    "    Int_p = (max_delta) -> quadgk(p, -max_delta, max_delta)[1]\n",
    "    # complete integral\n",
    "    #Int_A_full = quadgk(A, -Inf, Inf)[1]\n",
    "    #Int_B_full = quadgk(B, -Inf, Inf)[1]\n",
    "    #Int_p_full = quadgk(p, -Inf, Inf)[1]\n",
    "    return Int_A, Int_B, Int_p#, Int_A_full, Int_B_full, Int_p_full\n",
    "end"
   ]
  },
  {
   "cell_type": "code",
   "execution_count": null,
   "metadata": {},
   "outputs": [],
   "source": [
    "# compare the Integrals with the full integrals for different max_delta \n",
    "omega::Float64 = 10.0\n",
    "kappa::Float64 = 0.10\n",
    "g::Float64 = 0.1\n",
    "# Int_A, Int_B, Int_p, Int_A_full, Int_B_full, Int_p_full = integrals(omega, kappa, g)\n",
    "Int_A, Int_B, Int_p = integrals(omega, kappa, g)\n",
    "max_deltas::Vector{Float64} = range(1.0, stop=1000.0, length=1000)\n",
    "Int_As = [Int_A(max_delta) for max_delta in max_deltas]\n",
    "Int_Bs = [Int_B(max_delta) for max_delta in max_deltas]\n",
    "Int_ps = [Int_p(max_delta) for max_delta in max_deltas]\n",
    "\n",
    "# Plot the Results\n",
    "plot(max_deltas, abs.(Int_As), label=\"Int_A\")\n",
    "#hline!([Int_A_full], label=\"Int_A_full\")\n",
    "plot!(max_deltas, abs.(Int_Bs), label=\"Int_B\")\n",
    "#hline!([Int_B_full], label=\"Int_B_full\")\n",
    "plot!(max_deltas, abs.(Int_ps), label=\"Int_p\")\n",
    "#hline!([Int_p_full], label=\"Int_p_full\")\n",
    "\n"
   ]
  },
  {
   "cell_type": "code",
   "execution_count": null,
   "metadata": {},
   "outputs": [],
   "source": [
    "# integrate 1/(x^4)\n",
    "a::Float64 = 10.0\n",
    "Int_fun = y -> quadgk(x -> 1/(x^4+a), -y, y)[1]\n",
    "Int_max = Int_fun(Inf)\n",
    "ys::Vector{Float64} = range(0.1, stop=100.0, length=1000)\n",
    "vals = [Int_fun(y) for y in ys]\n",
    "## find point at which 10^-5 is reached\n",
    "#idx = findfirst(x -> x < 10^-5, Int_max .- vals)\n",
    "#ys[idx]\n",
    "plot(ys, Int_max .- vals, yaxis=:log, xaxis=:log, label=\"Int_max - Int_fun\")"
   ]
  },
  {
   "cell_type": "code",
   "execution_count": null,
   "metadata": {},
   "outputs": [],
   "source": []
  }
 ],
 "metadata": {
  "kernelspec": {
   "display_name": "Julia 1.9.3",
   "language": "julia",
   "name": "julia-1.9"
  },
  "language_info": {
   "file_extension": ".jl",
   "mimetype": "application/julia",
   "name": "julia",
   "version": "1.9.3"
  }
 },
 "nbformat": 4,
 "nbformat_minor": 2
}
